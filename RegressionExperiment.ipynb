{
 "cells": [
  {
   "cell_type": "code",
   "execution_count": 1,
   "metadata": {},
   "outputs": [
    {
     "data": {
      "image/png": "[encoded data removed]",
      "text/plain": [
       "<matplotlib.figure.Figure at 0x10c934358>"
      ]
     },
     "metadata": {},
     "output_type": "display_data"
    }
   ],
   "source": [
    "from sklearn import datasets as ds\n",
    "from sklearn.model_selection import train_test_split\n",
    "import numpy as np\n",
    "from scipy.sparse import csr_matrix\n",
    "import matplotlib.pyplot as plt\n",
    "\n",
    "x_train,y_train=ds.load_svmlight_file(\"housing_scale.txt\")#read data\n",
    "x_train=x_train.toarray()\n",
    "x_train=np.hstack((x_train,np.ones([np.shape(x_train)[0],1])))#add bias to x\n",
    "y_train=y_train.reshape(np.shape(y_train)[0],1)\n",
    "x_train,x_test,y_train,y_test=train_test_split(x_train,y_train,test_size=0.3)#split data\n",
    "\n",
    "#n:number of examples\n",
    "n=np.shape(x_train)[0]\n",
    "#m:number of features\n",
    "m=np.shape(x_train)[1]\n",
    "\n",
    "#initialize parameters with zero\n",
    "W=np.zeros([m,1])\n",
    "\n",
    "#loss function\n",
    "def loss(X,Y,W):\n",
    "    n=np.shape(X)[0]\n",
    "    M=Y-X.dot(W)\n",
    "    return (M.T.dot(M)/2/n)[0][0]\n",
    "\n",
    "#gradient function\n",
    "def gradient(X,Y,W):\n",
    "    return 2*X.T.dot(X.dot(W)-Y)\n",
    "\n",
    "L_train=[]\n",
    "L_test=[]\n",
    "#set learning rate\n",
    "lr=0.0001\n",
    "#begin training\n",
    "for epoch in range(500):\n",
    "    #compute gradient\n",
    "    g=gradient(x_train,y_train,W)\n",
    "    #update gradient\n",
    "    W=W-lr*g\n",
    "    #compute losses\n",
    "    l_train=loss(x_train,y_train,W)\n",
    "    L_train.append(l_train) \n",
    "    l_test=loss(x_test,y_test,W)\n",
    "    L_test.append(l_test)\n",
    "\n",
    "#draw figures\n",
    "plt.ylabel(\"loss\")\n",
    "plt.plot(L_train,color='red',label='train loss')\n",
    "plt.plot(L_test,color='blue',label='test loss')\n",
    "plt.legend(loc='upper center',shadow=True,fontsize='x-large')\n",
    "plt.show()"
   ]
  },
  {
   "cell_type": "code",
   "execution_count": null,
   "metadata": {
    "collapsed": true
   },
   "outputs": [],
   "source": []
  }
 ],
 "metadata": {
  "kernelspec": {
   "display_name": "Python 3",
   "language": "python",
   "name": "python3"
  },
  "language_info": {
   "codemirror_mode": {
    "name": "ipython",
    "version": 3
   },
   "file_extension": ".py",
   "mimetype": "text/x-python",
   "name": "python",
   "nbconvert_exporter": "python",
   "pygments_lexer": "ipython3",
   "version": "3.6.3"
  }
 },
 "nbformat": 4,
 "nbformat_minor": 2
}
